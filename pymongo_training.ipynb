{
 "cells": [
  {
   "cell_type": "code",
   "execution_count": 1,
   "id": "7d5060d1",
   "metadata": {},
   "outputs": [],
   "source": [
    "import pandas as pd\n",
    "import pymongo\n",
    "from pprint import pprint"
   ]
  },
  {
   "cell_type": "code",
   "execution_count": 2,
   "id": "c143e3e4",
   "metadata": {},
   "outputs": [],
   "source": [
    "client = pymongo.MongoClient('localhost', 27017)"
   ]
  },
  {
   "cell_type": "code",
   "execution_count": 3,
   "id": "8a12281c",
   "metadata": {},
   "outputs": [
    {
     "data": {
      "text/plain": [
       "['admin', 'config', 'local', 'simplon']"
      ]
     },
     "execution_count": 3,
     "metadata": {},
     "output_type": "execute_result"
    }
   ],
   "source": [
    "client.list_database_names()"
   ]
  },
  {
   "cell_type": "code",
   "execution_count": 4,
   "id": "6f64f1e2",
   "metadata": {},
   "outputs": [],
   "source": [
    "db = client.simplon"
   ]
  },
  {
   "cell_type": "code",
   "execution_count": 6,
   "id": "3379c021",
   "metadata": {},
   "outputs": [
    {
     "data": {
      "text/plain": [
       "['formations']"
      ]
     },
     "execution_count": 6,
     "metadata": {},
     "output_type": "execute_result"
    }
   ],
   "source": [
    "db.list_collection_names()"
   ]
  },
  {
   "cell_type": "code",
   "execution_count": 14,
   "id": "f674ae31",
   "metadata": {},
   "outputs": [],
   "source": [
    "formations = db['formations']"
   ]
  },
  {
   "cell_type": "code",
   "execution_count": 15,
   "id": "c9b9d7b7",
   "metadata": {},
   "outputs": [
    {
     "data": {
      "text/plain": [
       "Collection(Database(MongoClient(host=['localhost:27017'], document_class=dict, tz_aware=False, connect=True), 'simplon'), 'formations')"
      ]
     },
     "execution_count": 15,
     "metadata": {},
     "output_type": "execute_result"
    }
   ],
   "source": [
    "db.formations"
   ]
  },
  {
   "cell_type": "code",
   "execution_count": 16,
   "id": "659c4976",
   "metadata": {},
   "outputs": [
    {
     "data": {
      "text/plain": [
       "<pymongo.cursor.Cursor at 0x18c7a94b070>"
      ]
     },
     "execution_count": 16,
     "metadata": {},
     "output_type": "execute_result"
    }
   ],
   "source": [
    "formations.find()"
   ]
  },
  {
   "cell_type": "code",
   "execution_count": 17,
   "id": "ea9f8987",
   "metadata": {},
   "outputs": [
    {
     "name": "stdout",
     "output_type": "stream",
     "text": [
      "{'_id': ObjectId('61a9dbfed207f146d066347e'), 'name_formation': 'TECH IA'}\n",
      "{'_id': ObjectId('61a9dda5d207f146d066347f'),\n",
      " 'name_formation': 'COBOL',\n",
      " 'nom_formateur': 'Maurice'}\n",
      "{'_id': ObjectId('61a9dda5d207f146d0663480'),\n",
      " 'name_formation': 'REFUGEEKS',\n",
      " 'place': 'Flagship'}\n"
     ]
    }
   ],
   "source": [
    "for formation in formations.find():\n",
    "    pprint(formation)"
   ]
  },
  {
   "cell_type": "code",
   "execution_count": 19,
   "id": "4dcdd704",
   "metadata": {},
   "outputs": [
    {
     "name": "stdout",
     "output_type": "stream",
     "text": [
      "{'_id': ObjectId('61a9dda5d207f146d066347f'),\n",
      " 'name_formation': 'COBOL',\n",
      " 'nom_formateur': 'Maurice'}\n"
     ]
    }
   ],
   "source": [
    "for formation in formations.find({'name_formation':'COBOL'}):\n",
    "    pprint(formation)"
   ]
  },
  {
   "cell_type": "code",
   "execution_count": null,
   "id": "288bfa67",
   "metadata": {},
   "outputs": [],
   "source": []
  }
 ],
 "metadata": {
  "kernelspec": {
   "display_name": "Python 3 (ipykernel)",
   "language": "python",
   "name": "python3"
  },
  "language_info": {
   "codemirror_mode": {
    "name": "ipython",
    "version": 3
   },
   "file_extension": ".py",
   "mimetype": "text/x-python",
   "name": "python",
   "nbconvert_exporter": "python",
   "pygments_lexer": "ipython3",
   "version": "3.9.7"
  }
 },
 "nbformat": 4,
 "nbformat_minor": 5
}
